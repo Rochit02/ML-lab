{
  "nbformat": 4,
  "nbformat_minor": 0,
  "metadata": {
    "colab": {
      "provenance": [],
      "authorship_tag": "ABX9TyMX8C2kGHmoNKdEdmZS5IWY",
      "include_colab_link": true
    },
    "kernelspec": {
      "name": "python3",
      "display_name": "Python 3"
    },
    "language_info": {
      "name": "python"
    }
  },
  "cells": [
    {
      "cell_type": "markdown",
      "metadata": {
        "id": "view-in-github",
        "colab_type": "text"
      },
      "source": [
        "<a href=\"https://colab.research.google.com/github/Rochit02/ML-lab/blob/main/Lab_5.ipynb\" target=\"_parent\"><img src=\"https://colab.research.google.com/assets/colab-badge.svg\" alt=\"Open In Colab\"/></a>"
      ]
    },
    {
      "cell_type": "code",
      "execution_count": 10,
      "metadata": {
        "id": "a4v6qq-2sQR4"
      },
      "outputs": [],
      "source": [
        "import os\n",
        "os.environ['PYDEVD_DISABLE_FILE_VALIDATION'] = '1'\n",
        "import pandas as pd\n",
        "import numpy as np\n",
        "import matplotlib.pyplot as plt\n",
        "from sklearn.model_selection import train_test_split\n",
        "from sklearn.impute import SimpleImputer\n",
        "from sklearn.preprocessing import StandardScaler\n",
        "from sklearn.linear_model import LinearRegression\n",
        "from sklearn.metrics import mean_squared_error, mean_absolute_percentage_error, r2_score\n",
        "from sklearn.cluster import KMeans\n",
        "from sklearn.metrics import silhouette_score, calinski_harabasz_score, davies_bouldin_score\n",
        "\n",
        "np.random.seed(42)"
      ]
    },
    {
      "cell_type": "code",
      "source": [
        "FILEPATH = 'hdd_dataset.csv'\n",
        "try:\n",
        "    df = pd.read_csv(FILEPATH)\n",
        "    features = ['capacity_bytes', 'is_legacy_format', 'smart_1_normalized', 'smart_1_raw']\n",
        "    target = 'failure'\n",
        "\n",
        "    imputer = SimpleImputer(strategy='median')\n",
        "    X = imputer.fit_transform(df[features])\n",
        "    y = df[target].values.astype(float)  # for regression compatibility\n",
        "\n",
        "    X_train, X_test, y_train, y_test = train_test_split(\n",
        "        X, y, test_size=0.3, random_state=42, stratify=None)\n",
        "\n",
        "    print(\"Data loaded successfully!\")\n",
        "    print(f\"X shape: {X.shape}, y shape: {y.shape}\")\n",
        "\n",
        "except FileNotFoundError:\n",
        "    print(f\"Error: File '{FILEPATH}' not found\")\n",
        "    exit()"
      ],
      "metadata": {
        "colab": {
          "base_uri": "https://localhost:8080/"
        },
        "id": "pHniZ6dSsSrA",
        "outputId": "b6da7279-bcc7-4d5e-bed9-58b05683ad4a"
      },
      "execution_count": 11,
      "outputs": [
        {
          "output_type": "stream",
          "name": "stdout",
          "text": [
            "Data loaded successfully!\n",
            "X shape: (304957, 4), y shape: (304957,)\n"
          ]
        }
      ]
    },
    {
      "cell_type": "code",
      "source": [
        "def regression_metrics(y_true, y_pred, label=\"\"):\n",
        "    mse = mean_squared_error(y_true, y_pred)\n",
        "    rmse = np.sqrt(mse)\n",
        "    mape = mean_absolute_percentage_error(y_true, y_pred)\n",
        "    r2 = r2_score(y_true, y_pred)\n",
        "    print(f\"{label} -> MSE: {mse:.4f}, RMSE: {rmse:.4f}, MAPE: {mape:.4f}, R²: {r2:.4f}\")\n",
        "    return mse, rmse, mape, r2"
      ],
      "metadata": {
        "id": "_3Gmp5x1sUnk"
      },
      "execution_count": 12,
      "outputs": []
    },
    {
      "cell_type": "code",
      "source": [
        "print(\"\\nA1 & A2: Linear Regression with one attribute\")\n",
        "X_train_1 = X_train[:, [0]]  # First feature only\n",
        "X_test_1 = X_test[:, [0]]\n",
        "\n",
        "reg_single = LinearRegression().fit(X_train_1, y_train)\n",
        "y_train_pred_1 = reg_single.predict(X_train_1)\n",
        "y_test_pred_1 = reg_single.predict(X_test_1)\n",
        "\n",
        "regression_metrics(y_train, y_train_pred_1, label=\"Train (1 feature)\")\n",
        "regression_metrics(y_test, y_test_pred_1, label=\"Test (1 feature)\")"
      ],
      "metadata": {
        "colab": {
          "base_uri": "https://localhost:8080/"
        },
        "id": "LiISEAoqsZ7s",
        "outputId": "819472cd-fee8-465f-e414-b0d34fbd7d71"
      },
      "execution_count": 13,
      "outputs": [
        {
          "output_type": "stream",
          "name": "stdout",
          "text": [
            "\n",
            "A1 & A2: Linear Regression with one attribute\n",
            "Train (1 feature) -> MSE: 0.0000, RMSE: 0.0048, MAPE: 117615249350.2358, R²: 0.0000\n",
            "Test (1 feature) -> MSE: 0.0000, RMSE: 0.0033, MAPE: 117926240525.2039, R²: -0.0000\n"
          ]
        },
        {
          "output_type": "execute_result",
          "data": {
            "text/plain": [
              "(1.09305462167855e-05,\n",
              " np.float64(0.0033061376584748404),\n",
              " 117926240525.20392,\n",
              " -2.474294696530599e-05)"
            ]
          },
          "metadata": {},
          "execution_count": 13
        }
      ]
    },
    {
      "cell_type": "code",
      "source": [
        "print(\"\\nA3: Linear Regression with all attributes\")\n",
        "reg_multi = LinearRegression().fit(X_train, y_train)\n",
        "y_train_pred_all = reg_multi.predict(X_train)\n",
        "y_test_pred_all = reg_multi.predict(X_test)\n",
        "\n",
        "regression_metrics(y_train, y_train_pred_all, label=\"Train (all features)\")\n",
        "regression_metrics(y_test, y_test_pred_all, label=\"Test (all features)\")"
      ],
      "metadata": {
        "colab": {
          "base_uri": "https://localhost:8080/"
        },
        "id": "bGGnr3EXsb2O",
        "outputId": "5bc0516c-65ab-485b-83a9-16163bf42f45"
      },
      "execution_count": 14,
      "outputs": [
        {
          "output_type": "stream",
          "name": "stdout",
          "text": [
            "\n",
            "A3: Linear Regression with all attributes\n",
            "Train (all features) -> MSE: 0.0000, RMSE: 0.0048, MAPE: 118656030385.3858, R²: 0.0000\n",
            "Test (all features) -> MSE: 0.0000, RMSE: 0.0033, MAPE: 118889517846.5983, R²: -0.0001\n"
          ]
        },
        {
          "output_type": "execute_result",
          "data": {
            "text/plain": [
              "(1.0930830293543238e-05,\n",
              " np.float64(0.003306180620223771),\n",
              " 118889517846.59833,\n",
              " -5.0732845457091e-05)"
            ]
          },
          "metadata": {},
          "execution_count": 14
        }
      ]
    },
    {
      "cell_type": "code",
      "source": [
        "print(\"\\nA4: KMeans Clustering (k=2)\")\n",
        "X_train_clust = X_train.copy()  # without target variable\n",
        "scaler = StandardScaler()\n",
        "X_train_scaled = scaler.fit_transform(X_train_clust)\n",
        "\n",
        "kmeans_2 = KMeans(n_clusters=2, random_state=42, n_init=\"auto\").fit(X_train_scaled)\n",
        "print(\"Cluster labels:\", np.unique(kmeans_2.labels_))\n",
        "print(\"Cluster centers:\\n\", kmeans_2.cluster_centers_)"
      ],
      "metadata": {
        "colab": {
          "base_uri": "https://localhost:8080/"
        },
        "id": "0x4eap9Hsdr6",
        "outputId": "e5af4c2f-504e-41ae-cc4a-5a7b0a95b69a"
      },
      "execution_count": 15,
      "outputs": [
        {
          "output_type": "stream",
          "name": "stdout",
          "text": [
            "\n",
            "A4: KMeans Clustering (k=2)\n",
            "Cluster labels: [0 1]\n",
            "Cluster centers:\n",
            " [[ 0.22505148  0.          0.68970037 -0.59302552]\n",
            " [-0.43104721  0.         -1.32100185  1.13583789]]\n"
          ]
        }
      ]
    },
    {
      "cell_type": "code",
      "source": [
        "sil = silhouette_score(X_train_scaled, kmeans_2.labels_)\n",
        "ch = calinski_harabasz_score(X_train_scaled, kmeans_2.labels_)\n",
        "db = davies_bouldin_score(X_train_scaled, kmeans_2.labels_)\n",
        "print(f\"A5 Scores (k=2) -> Silhouette: {sil:.4f}, CH: {ch:.4f}, DB: {db:.4f}\")"
      ],
      "metadata": {
        "colab": {
          "base_uri": "https://localhost:8080/"
        },
        "id": "V3QYkSyCsfMX",
        "outputId": "1114547a-5b06-4503-d1db-56ad656e1aa9"
      },
      "execution_count": 16,
      "outputs": [
        {
          "output_type": "stream",
          "name": "stdout",
          "text": [
            "A5 Scores (k=2) -> Silhouette: 0.6132, CH: 272305.0508, DB: 0.6934\n"
          ]
        }
      ]
    },
    {
      "cell_type": "code",
      "source": [
        "print(\"\\nA6: KMeans for multiple k values\")\n",
        "k_values = range(2, 11)\n",
        "sil_scores, ch_scores, db_scores = [], [], []\n",
        "\n",
        "for k in k_values:\n",
        "    km = KMeans(n_clusters=k, random_state=42, n_init=\"auto\").fit(X_train_scaled)\n",
        "    sil_scores.append(silhouette_score(X_train_scaled, km.labels_))\n",
        "    ch_scores.append(calinski_harabasz_score(X_train_scaled, km.labels_))\n",
        "    db_scores.append(davies_bouldin_score(X_train_scaled, km.labels_))\n",
        "\n",
        "plt.figure(figsize=(12, 4))\n",
        "plt.subplot(1, 3, 1)\n",
        "plt.plot(k_values, sil_scores, marker='o')\n",
        "plt.title(\"Silhouette Score vs k\")\n",
        "plt.xlabel(\"k\"); plt.ylabel(\"Silhouette Score\")\n",
        "\n",
        "plt.subplot(1, 3, 2)\n",
        "plt.plot(k_values, ch_scores, marker='o')\n",
        "plt.title(\"Calinski-Harabasz Score vs k\")\n",
        "plt.xlabel(\"k\"); plt.ylabel(\"CH Score\")\n",
        "\n",
        "plt.subplot(1, 3, 3)\n",
        "plt.plot(k_values, db_scores, marker='o')\n",
        "plt.title(\"Davies-Bouldin Index vs k\")\n",
        "plt.xlabel(\"k\"); plt.ylabel(\"DB Index\")\n",
        "\n",
        "plt.tight_layout()\n",
        "plt.show()"
      ],
      "metadata": {
        "colab": {
          "base_uri": "https://localhost:8080/"
        },
        "id": "gaffGQAishKC",
        "outputId": "78c2e20f-2885-4a8f-f7dc-9c04cdaf9f55"
      },
      "execution_count": null,
      "outputs": [
        {
          "output_type": "stream",
          "name": "stdout",
          "text": [
            "\n",
            "A6: KMeans for multiple k values\n"
          ]
        }
      ]
    },
    {
      "cell_type": "code",
      "source": [
        "print(\"\\nA7: Elbow Plot\")\n",
        "distortions = []\n",
        "for k in range(2, 20):\n",
        "    km = KMeans(n_clusters=k, random_state=42, n_init=\"auto\").fit(X_train_scaled)\n",
        "    distortions.append(km.inertia_)\n",
        "\n",
        "plt.figure(figsize=(6, 4))\n",
        "plt.plot(range(2, 20), distortions, marker='o')\n",
        "plt.title(\"Elbow Plot for Optimal k\")\n",
        "plt.xlabel(\"k\"); plt.ylabel(\"Distortion (Inertia)\")\n",
        "plt.grid(True)\n",
        "plt.show()"
      ],
      "metadata": {
        "id": "czKCNsb2sjaq"
      },
      "execution_count": null,
      "outputs": []
    }
  ]
}