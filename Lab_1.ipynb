{
  "nbformat": 4,
  "nbformat_minor": 0,
  "metadata": {
    "colab": {
      "provenance": [],
      "authorship_tag": "ABX9TyPG6Fi9oh0OI9JI3bEQdwQw",
      "include_colab_link": true
    },
    "kernelspec": {
      "name": "python3",
      "display_name": "Python 3"
    },
    "language_info": {
      "name": "python"
    }
  },
  "cells": [
    {
      "cell_type": "markdown",
      "metadata": {
        "id": "view-in-github",
        "colab_type": "text"
      },
      "source": [
        "<a href=\"https://colab.research.google.com/github/Rochit02/ML-lab/blob/main/Lab_1.ipynb\" target=\"_parent\"><img src=\"https://colab.research.google.com/assets/colab-badge.svg\" alt=\"Open In Colab\"/></a>"
      ]
    },
    {
      "cell_type": "markdown",
      "source": [
        "# **ML Lab 1**"
      ],
      "metadata": {
        "id": "F9pX3QpCyIvz"
      }
    },
    {
      "cell_type": "markdown",
      "source": [
        "\n",
        "\n",
        "---\n",
        "\n"
      ],
      "metadata": {
        "id": "87P7r5Dj4pz0"
      }
    },
    {
      "cell_type": "markdown",
      "source": [
        "Generate a list of 100 random numbers between 100 and 150. Find the mean, median and mode for these numbers."
      ],
      "metadata": {
        "id": "xv8g0WY9wg4q"
      }
    },
    {
      "cell_type": "code",
      "source": [
        "import random\n",
        "import statistics\n",
        "\n",
        "def generate_random_numbers(count=100, start=100, end=150):\n",
        "    \"\"\"Generate a list of random integers.\"\"\"\n",
        "    return [random.randint(start, end) for _ in range(count)]\n",
        "\n",
        "def calculate_statistics(numbers):\n",
        "    \"\"\"Calculate mean, median, and mode of a list.\"\"\"\n",
        "    mean = statistics.mean(numbers)\n",
        "    median = statistics.median(numbers)\n",
        "    try:\n",
        "        mode = statistics.mode(numbers)\n",
        "    except statistics.StatisticsError:\n",
        "        mode = \"No unique mode found\"\n",
        "    return mean, median, mode\n",
        "\n",
        "def display_results(numbers, mean, median, mode):\n",
        "    \"\"\"Display the numbers and their statistics.\"\"\"\n",
        "    print(\"Random Numbers:\", numbers)\n",
        "    print(\"Mean:\", mean)\n",
        "    print(\"Median:\", median)\n",
        "    print(\"Mode:\", mode)\n",
        "\n",
        "def main():\n",
        "    random_numbers = generate_random_numbers()\n",
        "    mean, median, mode = calculate_statistics(random_numbers)\n",
        "    display_results(random_numbers, mean, median, mode)\n",
        "\n",
        "if __name__ == \"__main__\":\n",
        "    main()"
      ],
      "metadata": {
        "colab": {
          "base_uri": "https://localhost:8080/"
        },
        "id": "ebOvknNKwPKg",
        "outputId": "5923a59d-8fb6-4a87-8850-8a69b6adb2e7"
      },
      "execution_count": null,
      "outputs": [
        {
          "output_type": "stream",
          "name": "stdout",
          "text": [
            "Random Numbers: [138, 147, 134, 110, 124, 127, 100, 110, 139, 103, 107, 145, 117, 139, 110, 134, 145, 104, 111, 144, 119, 120, 109, 125, 114, 142, 124, 121, 112, 106, 107, 109, 136, 106, 147, 134, 142, 139, 128, 129, 105, 149, 148, 148, 145, 149, 113, 128, 104, 111, 121, 142, 111, 140, 122, 114, 140, 139, 146, 133, 100, 107, 122, 143, 118, 148, 112, 123, 138, 125, 136, 148, 132, 110, 129, 147, 110, 118, 115, 145, 121, 121, 123, 111, 109, 133, 110, 141, 142, 103, 109, 150, 121, 109, 148, 104, 101, 142, 104, 127]\n",
            "Mean: 125.2\n",
            "Median: 123.5\n",
            "Mode: 110\n"
          ]
        }
      ]
    },
    {
      "cell_type": "markdown",
      "source": [
        "\n",
        "\n",
        "---\n",
        "\n"
      ],
      "metadata": {
        "id": "CdDiqN574oOo"
      }
    },
    {
      "cell_type": "markdown",
      "source": [
        "Write a program that accepts a matrix as input and returns its transpose."
      ],
      "metadata": {
        "id": "JF0xOwVxxLqQ"
      }
    },
    {
      "cell_type": "code",
      "source": [
        "def get_matrix_input():\n",
        "    \"\"\"Reads a matrix from user input.\"\"\"\n",
        "    rows = int(input(\"Enter number of rows: \"))\n",
        "    cols = int(input(\"Enter number of columns: \"))\n",
        "    print(\"Enter the matrix:\")\n",
        "    matrix = [list(map(int, input().split())) for _ in range(rows)]\n",
        "    return matrix, rows, cols\n",
        "\n",
        "def transpose_matrix(matrix, rows, cols):\n",
        "    \"\"\"Returning the transpose of a matrix.\"\"\"\n",
        "    return [[matrix[j][i] for j in range(rows)] for i in range(cols)]\n",
        "\n",
        "def print_matrix(matrix):\n",
        "    \"\"\"Printing a matrix row by row.\"\"\"\n",
        "    for row in matrix:\n",
        "        print(*row)\n",
        "\n",
        "def main():\n",
        "    matrix, rows, cols = get_matrix_input()\n",
        "    transposed = transpose_matrix(matrix, rows, cols)\n",
        "    print(\"Transposed matrix:\")\n",
        "    print_matrix(transposed)\n",
        "\n",
        "if __name__ == \"__main__\":\n",
        "    main()"
      ],
      "metadata": {
        "colab": {
          "base_uri": "https://localhost:8080/"
        },
        "id": "bcx1duIHxOy0",
        "outputId": "b24b5e6b-702c-4a61-b321-b8c96d4fc155"
      },
      "execution_count": null,
      "outputs": [
        {
          "output_type": "stream",
          "name": "stdout",
          "text": [
            "Enter number of rows: 2\n",
            "Enter number of columns: 3\n",
            "Enter the matrix:\n",
            "1 2 3\n",
            "4 5 6\n",
            "Transposed matrix:\n",
            "1 4\n",
            "2 5\n",
            "3 6\n"
          ]
        }
      ]
    },
    {
      "cell_type": "markdown",
      "source": [
        "\n",
        "\n",
        "---\n",
        "\n"
      ],
      "metadata": {
        "id": "SQz0x5Di4mWJ"
      }
    },
    {
      "cell_type": "markdown",
      "source": [
        "Write a program to find the number of common elements between two lists. The lists contain integers."
      ],
      "metadata": {
        "id": "9Wpn1_dNyySp"
      }
    },
    {
      "cell_type": "code",
      "source": [
        "def get_list_input(prompt):\n",
        "    \"\"\"Reads a space-separated list of integers from user input.\"\"\"\n",
        "    return list(map(int, input(prompt).split()))\n",
        "\n",
        "def find_common_elements(list1, list2):\n",
        "    \"\"\"Finds common unique elements between two lists.\"\"\"\n",
        "    set1 = set(list1)\n",
        "    set2 = set(list2)\n",
        "    return set1.intersection(set2)\n",
        "\n",
        "def display_common_elements(common_elements):\n",
        "    \"\"\"Displays the number and content of common elements.\"\"\"\n",
        "    print(\"Number of common elements:\", len(common_elements))\n",
        "    print(\"Common elements:\", common_elements)\n",
        "\n",
        "def main():\n",
        "    list1 = get_list_input(\"Enter the first list of integers (space-separated): \")\n",
        "    list2 = get_list_input(\"Enter the second list of integers (space-separated): \")\n",
        "    common_elements = find_common_elements(list1, list2)\n",
        "    display_common_elements(common_elements)\n",
        "\n",
        "if __name__ == \"__main__\":\n",
        "    main()"
      ],
      "metadata": {
        "colab": {
          "base_uri": "https://localhost:8080/"
        },
        "id": "a6WUHjsnyDw8",
        "outputId": "c7eb0278-4ce0-4d73-8916-9aab755f00d8"
      },
      "execution_count": null,
      "outputs": [
        {
          "output_type": "stream",
          "name": "stdout",
          "text": [
            "Enter the first list of integers (space-separated): 1 2 3 4 5\n",
            "Enter the second list of integers (space-separated): 2 4 6 7\n",
            "Number of common elements: 2\n",
            "Common elements: {2, 4}\n"
          ]
        }
      ]
    },
    {
      "cell_type": "markdown",
      "source": [
        "\n",
        "\n",
        "---\n",
        "\n"
      ],
      "metadata": {
        "id": "DCF6Fzuu4k_N"
      }
    },
    {
      "cell_type": "markdown",
      "source": [
        "Write a program that accepts two matrices A and B as input and returns their product AB. Check if A & B are multipliable; if not, return error message."
      ],
      "metadata": {
        "id": "wPwl6grB2WQt"
      }
    },
    {
      "cell_type": "code",
      "source": [
        "def input_matrix(name):\n",
        "    \"\"\"Reads a matrix from user input.\"\"\"\n",
        "    print(f\"{name} Matrix\")\n",
        "    rows = int(input(\"Enter number of rows: \"))\n",
        "    cols = int(input(\"Enter number of columns: \"))\n",
        "    print(\"Enter the matrix:\")\n",
        "    matrix = [list(map(int, input().split())) for _ in range(rows)]\n",
        "    return matrix, rows, cols\n",
        "\n",
        "def multiply_matrices(matrix1, rows1, cols1, matrix2, rows2, cols2):\n",
        "    \"\"\"Multiplies two matrices if compatible, else returns None.\"\"\"\n",
        "    if cols1 != rows2:\n",
        "        return None\n",
        "    result = []\n",
        "    for i in range(rows1):\n",
        "        row = []\n",
        "        for j in range(cols2):\n",
        "            element = sum(matrix1[i][k] * matrix2[k][j] for k in range(cols1))\n",
        "            row.append(element)\n",
        "        result.append(row)\n",
        "    return result\n",
        "\n",
        "def print_matrix(matrix, title=\"Matrix\"):\n",
        "    \"\"\"Prints a matrix with an optional title.\"\"\"\n",
        "    print(title)\n",
        "    for row in matrix:\n",
        "        print(*row)\n",
        "\n",
        "def main():\n",
        "    matrix1, rows1, cols1 = input_matrix(\"First\")\n",
        "    matrix2, rows2, cols2 = input_matrix(\"Second\")\n",
        "\n",
        "    product = multiply_matrices(matrix1, rows1, cols1, matrix2, rows2, cols2)\n",
        "\n",
        "    if product is None:\n",
        "        print(\"Error: Matrices cannot be multiplied (columns of A must equal rows of B).\")\n",
        "    else:\n",
        "        print_matrix(product, \"Product of the two matrices (A x B):\")\n",
        "\n",
        "if __name__ == \"__main__\":\n",
        "    main()"
      ],
      "metadata": {
        "colab": {
          "base_uri": "https://localhost:8080/"
        },
        "id": "7TTVOH0m2daz",
        "outputId": "e4fcbd1a-509b-434f-ae0e-48097a83fe1d"
      },
      "execution_count": null,
      "outputs": [
        {
          "output_type": "stream",
          "name": "stdout",
          "text": [
            "first matrix\n",
            "Enter number of rows: 2\n",
            "Enter number of columns: 3\n",
            "Enter the matrix:\n",
            "1 2 3\n",
            "4 5 6\n",
            "second matrix\n",
            "Enter number of rows: 3\n",
            "Enter number of columns: 2\n",
            "Enter the matrix:\n",
            "1 2\n",
            "2 3\n",
            "3 4\n",
            "Product of the two matrices (A x B):\n",
            "14 20\n",
            "32 47\n"
          ]
        }
      ]
    },
    {
      "cell_type": "markdown",
      "source": [
        "\n",
        "\n",
        "---\n",
        "\n"
      ],
      "metadata": {
        "id": "9h297QtJ4is3"
      }
    },
    {
      "cell_type": "markdown",
      "source": [
        "Write a program to count the number of vowels and consonants present in an input string."
      ],
      "metadata": {
        "id": "Xt_YGjgm4fyv"
      }
    },
    {
      "cell_type": "code",
      "source": [
        "def get_input():\n",
        "    \"\"\"Gets string input from the user.\"\"\"\n",
        "    return input(\"Enter your string: \")\n",
        "\n",
        "def count_vowels_and_consonants(string):\n",
        "    \"\"\"Counts vowels and consonants in the given string.\"\"\"\n",
        "    vowels = 0\n",
        "    consonants = 0\n",
        "    for char in string:\n",
        "        if char.isalpha():\n",
        "            if char.lower() in 'aeiou':\n",
        "                vowels += 1\n",
        "            else:\n",
        "                consonants += 1\n",
        "    return vowels, consonants\n",
        "\n",
        "def display_result(vowels, consonants):\n",
        "    \"\"\"Displays the result.\"\"\"\n",
        "    print(\"No. of vowels: {vowels} No. of consonants: {consonants}\")\n",
        "\n",
        "def main():\n",
        "    string = get_input()\n",
        "    vowels, consonants = count_vowels_and_consonants(string)\n",
        "    display_result(vowels, consonants)\n",
        "\n",
        "if __name__ == \"__main__\":\n",
        "    main()"
      ],
      "metadata": {
        "colab": {
          "base_uri": "https://localhost:8080/"
        },
        "id": "wzKPoN9L21Md",
        "outputId": "fac7850b-bf75-4118-85ed-cb6a30f213f5"
      },
      "execution_count": null,
      "outputs": [
        {
          "output_type": "stream",
          "name": "stdout",
          "text": [
            "Enter your string: Rochit\n",
            "No. of vowels: 2, No. of consonants: 4\n"
          ]
        }
      ]
    }
  ]
}