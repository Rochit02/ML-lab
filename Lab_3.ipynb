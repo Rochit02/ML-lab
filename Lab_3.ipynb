{
  "nbformat": 4,
  "nbformat_minor": 0,
  "metadata": {
    "colab": {
      "provenance": [],
      "authorship_tag": "ABX9TyONjHTI50UDBz08YiXupoMN",
      "include_colab_link": true
    },
    "kernelspec": {
      "name": "python3",
      "display_name": "Python 3"
    },
    "language_info": {
      "name": "python"
    }
  },
  "cells": [
    {
      "cell_type": "markdown",
      "metadata": {
        "id": "view-in-github",
        "colab_type": "text"
      },
      "source": [
        "<a href=\"https://colab.research.google.com/github/Rochit02/ML-lab/blob/main/Lab_3.ipynb\" target=\"_parent\"><img src=\"https://colab.research.google.com/assets/colab-badge.svg\" alt=\"Open In Colab\"/></a>"
      ]
    },
    {
      "cell_type": "code",
      "execution_count": 19,
      "metadata": {
        "id": "brHekz8o9QmN"
      },
      "outputs": [],
      "source": [
        "import pandas as pd\n",
        "import numpy as np\n",
        "import matplotlib.pyplot as plt\n",
        "from sklearn.model_selection import train_test_split\n",
        "from sklearn.neighbors import KNeighborsClassifier\n",
        "from sklearn.metrics import (confusion_matrix, accuracy_score, precision_score, recall_score, f1_score)\n",
        "from sklearn.impute import SimpleImputer"
      ]
    },
    {
      "cell_type": "code",
      "source": [
        "def load_and_preprocess_data(filepath):\n",
        "    \"\"\"Load and preprocess the HDD dataset\"\"\"\n",
        "    df = pd.read_csv(filepath)\n",
        "\n",
        "    # Select relevant features and target\n",
        "    features = ['capacity_bytes', 'is_legacy_format', 'smart_1_normalized', 'smart_1_raw']\n",
        "    target = 'failure'\n",
        "\n",
        "    # Handle missing values\n",
        "    imputer = SimpleImputer(strategy='median')\n",
        "    X = imputer.fit_transform(df[features])\n",
        "    y = df[target].values\n",
        "\n",
        "    print(\"Dataset loaded and preprocessed successfully!\")\n",
        "    print(f\"Shape of X: {X.shape}\")\n",
        "    print(f\"Shape of y: {y.shape}\")\n",
        "    print(\"\\nSample of features:\")\n",
        "    print(pd.DataFrame(X, columns=features).head())\n",
        "\n",
        "    return X, y, features\n",
        "\n",
        "FILEPATH = 'hdd_dataset.csv'\n",
        "X, y, features = load_and_preprocess_data(FILEPATH)"
      ],
      "metadata": {
        "colab": {
          "base_uri": "https://localhost:8080/"
        },
        "id": "rJ6Rz9fw94y-",
        "outputId": "c3f1afcb-db43-42f2-b83f-9706f3dddab0"
      },
      "execution_count": 20,
      "outputs": [
        {
          "output_type": "stream",
          "name": "stdout",
          "text": [
            "Dataset loaded and preprocessed successfully!\n",
            "Shape of X: (304957, 4)\n",
            "Shape of y: (304957,)\n",
            "\n",
            "Sample of features:\n",
            "   capacity_bytes  is_legacy_format  smart_1_normalized  smart_1_raw\n",
            "0    2.500594e+11               0.0               100.0          0.0\n",
            "1    2.500594e+11               0.0               100.0          0.0\n",
            "2    8.001563e+12               0.0               100.0          0.0\n",
            "3    8.001563e+12               0.0               100.0          0.0\n",
            "4    8.001563e+12               0.0               100.0          0.0\n"
          ]
        }
      ]
    },
    {
      "cell_type": "code",
      "source": [
        "def analyze_class_statistics(X, y):\n",
        "    \"\"\"Calculate and display class statistics\"\"\"\n",
        "    class_labels = np.unique(y)\n",
        "    class_means = [np.mean(X[y == label], axis=0) for label in class_labels]\n",
        "    class_stds = [np.std(X[y == label], axis=0) for label in class_labels]\n",
        "    distance = np.linalg.norm(class_means[0] - class_means[1])\n",
        "\n",
        "    print(\"## A1: Intraclass Spread and Interclass Distances\")\n",
        "    for i, label in enumerate(class_labels):\n",
        "        print(f\"\\nClass {label} Statistics:\")\n",
        "        print(f\"Mean: {class_means[i]}\")\n",
        "        print(f\"Standard Deviation: {class_stds[i]}\")\n",
        "    print(f\"\\nDistance between class means: {distance:.4f}\")\n",
        "\n",
        "    return class_means, class_stds, distance\n",
        "\n",
        "class_means, class_stds, mean_distance = analyze_class_statistics(X, y)"
      ],
      "metadata": {
        "colab": {
          "base_uri": "https://localhost:8080/"
        },
        "id": "h0ywQqFiA-xR",
        "outputId": "ad1bfbdb-760c-48fa-cc0e-dbe22beca90c"
      },
      "execution_count": 21,
      "outputs": [
        {
          "output_type": "stream",
          "name": "stdout",
          "text": [
            "## A1: Intraclass Spread and Interclass Distances\n",
            "\n",
            "Class 0 Statistics:\n",
            "Mean: [1.44905565e+13 0.00000000e+00 9.30899062e+01 4.24453657e+07]\n",
            "Standard Deviation: [4.03430392e+12 0.00000000e+00 1.01010942e+01 7.19215402e+07]\n",
            "\n",
            "Class 1 Statistics:\n",
            "Mean: [1.13337094e+13 0.00000000e+00 7.96666667e+01 7.31949747e+07]\n",
            "Standard Deviation: [1.49018107e+12 0.00000000e+00 2.10290804e+01 7.75890164e+07]\n",
            "\n",
            "Distance between class means: 3156847139339.4980\n"
          ]
        }
      ]
    },
    {
      "cell_type": "code",
      "source": [
        "def analyze_feature(X, features, feature_index=0):\n",
        "    \"\"\"Analyze and plot histogram for a specific feature\"\"\"\n",
        "    feature_name = features[feature_index]\n",
        "    feature_values = X[:, feature_index]\n",
        "\n",
        "    plt.figure(figsize=(8, 6))\n",
        "    plt.hist(feature_values, bins=30, edgecolor='black')\n",
        "    plt.title(f'Histogram of {feature_name}')\n",
        "    plt.xlabel('Value')\n",
        "    plt.ylabel('Frequency')\n",
        "    plt.grid(True)\n",
        "    plt.show()\n",
        "\n",
        "    mean_val = np.mean(feature_values)\n",
        "    var_val = np.var(feature_values)\n",
        "\n",
        "    print(f\"Analysis for feature: '{feature_name}'\")\n",
        "    print(f\"Mean: {mean_val:.4f}\")\n",
        "    print(f\"Variance: {var_val:.4f}\")\n",
        "\n",
        "    return mean_val, var_val\n",
        "\n",
        "feature_mean, feature_var = analyze_feature(X, features)"
      ],
      "metadata": {
        "colab": {
          "base_uri": "https://localhost:8080/",
          "height": 616
        },
        "id": "xNXXsJNMBFOm",
        "outputId": "d328dfda-615c-4834-999e-1f45a7052056"
      },
      "execution_count": 22,
      "outputs": [
        {
          "output_type": "display_data",
          "data": {
            "text/plain": [
              "<Figure size 800x600 with 1 Axes>"
            ],
            "image/png": "[encoded data removed]"
          },
          "metadata": {}
        },
        {
          "output_type": "stream",
          "name": "stdout",
          "text": [
            "Analysis for feature: 'capacity_bytes'\n",
            "Mean: 14490494419711.5508\n",
            "Variance: 16275527625534523354120192.0000\n"
          ]
        }
      ]
    },
    {
      "cell_type": "code",
      "source": [
        "def calculate_minkowski_distances(vec1, vec2, r_range):\n",
        "    \"\"\"Calculate and plot Minkowski distances for different r values\"\"\"\n",
        "    distances = [np.linalg.norm(vec1 - vec2, ord=r) for r in r_range]\n",
        "\n",
        "    plt.figure(figsize=(8, 6))\n",
        "    plt.plot(r_range, distances, marker='o')\n",
        "    plt.title('Minkowski Distance Between Two Feature Vectors')\n",
        "    plt.xlabel('r value')\n",
        "    plt.ylabel('Distance')\n",
        "    plt.grid(True)\n",
        "    plt.show()\n",
        "\n",
        "    print(\"Minkowski distances:\")\n",
        "    for r, dist in zip(r_range, distances):\n",
        "        print(f\"r={r}: {dist:.4f}\")\n",
        "\n",
        "    return distances\n",
        "\n",
        "vec_a, vec_b = X[0], X[1]\n",
        "r_values = range(1, 11)\n",
        "minkowski_dists = calculate_minkowski_distances(vec_a, vec_b, r_values)"
      ],
      "metadata": {
        "colab": {
          "base_uri": "https://localhost:8080/",
          "height": 755
        },
        "id": "eJLInE-6BJ6t",
        "outputId": "98d4c30b-745b-4055-df4e-c0e5168a7d31"
      },
      "execution_count": 23,
      "outputs": [
        {
          "output_type": "display_data",
          "data": {
            "text/plain": [
              "<Figure size 800x600 with 1 Axes>"
            ],
            "image/png": "[encoded data removed]"
          },
          "metadata": {}
        },
        {
          "output_type": "stream",
          "name": "stdout",
          "text": [
            "Minkowski distances:\n",
            "r=1: 0.0000\n",
            "r=2: 0.0000\n",
            "r=3: 0.0000\n",
            "r=4: 0.0000\n",
            "r=5: 0.0000\n",
            "r=6: 0.0000\n",
            "r=7: 0.0000\n",
            "r=8: 0.0000\n",
            "r=9: 0.0000\n",
            "r=10: 0.0000\n"
          ]
        }
      ]
    },
    {
      "cell_type": "code",
      "source": [
        "def split_data(X, y, test_size=0.3, random_state=42):\n",
        "    \"\"\"Split data into training and test sets\"\"\"\n",
        "    X_train, X_test, y_train, y_test = train_test_split(\n",
        "        X, y, test_size=test_size, random_state=random_state, stratify=y)\n",
        "\n",
        "    print(f\"Training set size: {X_train.shape[0]} samples\")\n",
        "    print(f\"Test set size: {X_test.shape[0]} samples\")\n",
        "    print(\"\\nClass distribution in y_train:\")\n",
        "    print(pd.Series(y_train).value_counts(normalize=True))\n",
        "    print(\"\\nClass distribution in y_test:\")\n",
        "    print(pd.Series(y_test).value_counts(normalize=True))\n",
        "\n",
        "    return X_train, X_test, y_train, y_test\n",
        "\n",
        "X_train, X_test, y_train, y_test = split_data(X, y)"
      ],
      "metadata": {
        "colab": {
          "base_uri": "https://localhost:8080/"
        },
        "id": "yKlJ2ndTBKjZ",
        "outputId": "ba4bcb68-20a0-466c-b4b3-3a4c0bd4d067"
      },
      "execution_count": 28,
      "outputs": [
        {
          "output_type": "stream",
          "name": "stdout",
          "text": [
            "Training set size: 213469 samples\n",
            "Test set size: 91488 samples\n",
            "\n",
            "Class distribution in y_train:\n",
            "0    0.999981\n",
            "1    0.000019\n",
            "Name: proportion, dtype: float64\n",
            "\n",
            "Class distribution in y_test:\n",
            "0    0.999978\n",
            "1    0.000022\n",
            "Name: proportion, dtype: float64\n"
          ]
        }
      ]
    },
    {
      "cell_type": "code",
      "source": [
        "def train_and_evaluate_knn(X_train, y_train, X_test, y_test, k=3):\n",
        "    \"\"\"Train and evaluate kNN classifier\"\"\"\n",
        "    # Train classifier\n",
        "    knn = KNeighborsClassifier(n_neighbors=k)\n",
        "    knn.fit(X_train, y_train)\n",
        "\n",
        "    # Evaluate accuracy\n",
        "    accuracy = knn.score(X_test, y_test)\n",
        "    print(f\"kNN Classifier (k={k})\")\n",
        "    print(f\"Test accuracy: {accuracy:.4f}\")\n",
        "\n",
        "    # Make prediction on first test sample\n",
        "    sample = X_test[0].reshape(1, -1)\n",
        "    prediction = knn.predict(sample)\n",
        "    print(\"Sample Prediction\")\n",
        "    print(f\"Predicted: {'Failure' if prediction[0] else 'Normal'}\")\n",
        "    print(f\"Actual: {'Failure' if y_test[0] else 'Normal'}\")\n",
        "\n",
        "    return knn, accuracy\n",
        "\n",
        "knn_model, test_accuracy = train_and_evaluate_knn(X_train, y_train, X_test, y_test)"
      ],
      "metadata": {
        "colab": {
          "base_uri": "https://localhost:8080/"
        },
        "id": "u6K3V3qLBM-a",
        "outputId": "2e3143bf-44a3-4edd-83b6-81e057737744"
      },
      "execution_count": 29,
      "outputs": [
        {
          "output_type": "stream",
          "name": "stdout",
          "text": [
            "kNN Classifier (k=3)\n",
            "Test accuracy: 1.0000\n",
            "\n",
            "## Sample Prediction\n",
            "Predicted: Normal\n",
            "Actual: Normal\n"
          ]
        }
      ]
    },
    {
      "cell_type": "code",
      "source": [
        "def compare_k_values(X_train, y_train, X_test, y_test, k_range=range(1, 12)):\n",
        "    \"\"\"Compare accuracy for different k values\"\"\"\n",
        "    accuracies = []\n",
        "    for k in k_range:\n",
        "        knn = KNeighborsClassifier(n_neighbors=k)\n",
        "        knn.fit(X_train, y_train)\n",
        "        accuracies.append(knn.score(X_test, y_test))\n",
        "\n",
        "    plt.figure(figsize=(8, 6))\n",
        "    plt.plot(k_range, accuracies, marker='o')\n",
        "    plt.title('Accuracy vs. k Value for k-NN')\n",
        "    plt.xlabel('k Value')\n",
        "    plt.ylabel('Accuracy')\n",
        "    plt.xticks(k_range)\n",
        "    plt.grid(True)\n",
        "    plt.show()\n",
        "\n",
        "    print(\"Accuracy for different k values:\")\n",
        "    for k, acc in zip(k_range, accuracies):\n",
        "        print(f\"k={k}: {acc:.4f}\")\n",
        "\n",
        "    return accuracies\n",
        "\n",
        "k_values = range(1, 12)\n",
        "accuracies = compare_k_values(X_train, y_train, X_test, y_test, k_values)"
      ],
      "metadata": {
        "colab": {
          "base_uri": "https://localhost:8080/",
          "height": 772
        },
        "id": "Zjv9UEgYBPPh",
        "outputId": "465f72a2-6626-4373-8f09-74d4a221a7b9"
      },
      "execution_count": 26,
      "outputs": [
        {
          "output_type": "display_data",
          "data": {
            "text/plain": [
              "<Figure size 800x600 with 1 Axes>"
            ],
            "image/png": "[encoded data removed]"
          },
          "metadata": {}
        },
        {
          "output_type": "stream",
          "name": "stdout",
          "text": [
            "Accuracy for different k values:\n",
            "k=1: 1.0000\n",
            "k=2: 1.0000\n",
            "k=3: 1.0000\n",
            "k=4: 1.0000\n",
            "k=5: 1.0000\n",
            "k=6: 1.0000\n",
            "k=7: 1.0000\n",
            "k=8: 1.0000\n",
            "k=9: 1.0000\n",
            "k=10: 1.0000\n",
            "k=11: 1.0000\n"
          ]
        }
      ]
    },
    {
      "cell_type": "code",
      "source": [
        "def evaluate_performance(model, X_train, y_train, X_test, y_test):\n",
        "    \"\"\"Evaluate model performance metrics\"\"\"\n",
        "    def get_metrics(X, y):\n",
        "        y_pred = model.predict(X)\n",
        "        return {\n",
        "            'accuracy': accuracy_score(y, y_pred),\n",
        "            'precision': precision_score(y, y_pred),\n",
        "            'recall': recall_score(y, y_pred),\n",
        "            'f1': f1_score(y, y_pred),\n",
        "            'confusion_matrix': confusion_matrix(y, y_pred)\n",
        "        }\n",
        "\n",
        "    train_metrics = get_metrics(X_train, y_train)\n",
        "    test_metrics = get_metrics(X_test, y_test)\n",
        "\n",
        "    print(\"--- Training Set ---\")\n",
        "    print(f\"Accuracy: {train_metrics['accuracy']:.4f}\")\n",
        "    print(f\"Precision: {train_metrics['precision']:.4f}\")\n",
        "    print(f\"Recall: {train_metrics['recall']:.4f}\")\n",
        "    print(f\"F1-Score: {train_metrics['f1']:.4f}\")\n",
        "    print(f\"Confusion Matrix:\\n{train_metrics['confusion_matrix']}\")\n",
        "\n",
        "    print(\"--- Test Set ---\")\n",
        "    print(f\"Accuracy: {test_metrics['accuracy']:.4f}\")\n",
        "    print(f\"Precision: {test_metrics['precision']:.4f}\")\n",
        "    print(f\"Recall: {test_metrics['recall']:.4f}\")\n",
        "    print(f\"F1-Score: {test_metrics['f1']:.4f}\")\n",
        "    print(f\"Confusion Matrix:\\n{test_metrics['confusion_matrix']}\")\n",
        "\n",
        "    # Model fit analysis\n",
        "    print(\"--- Model Fit Analysis ---\")\n",
        "    if train_metrics['accuracy'] > test_metrics['accuracy'] + 0.1:\n",
        "        print(\"The model is OVERFITTING (high train accuracy, lower test accuracy)\")\n",
        "    elif train_metrics['accuracy'] < 0.7:\n",
        "        print(\"The model may be UNDERFITTING (low performance on both sets)\")\n",
        "    else:\n",
        "        print(\"The model has a REGULAR FIT (good balance between train and test performance)\")\n",
        "\n",
        "evaluate_performance(knn_model, X_train, y_train, X_test, y_test)"
      ],
      "metadata": {
        "colab": {
          "base_uri": "https://localhost:8080/"
        },
        "id": "ebIM0Q_kBR8k",
        "outputId": "0d5ca40f-48a0-4db4-9a38-8adc7b271587"
      },
      "execution_count": 30,
      "outputs": [
        {
          "output_type": "stream",
          "name": "stderr",
          "text": [
            "/usr/local/lib/python3.11/dist-packages/sklearn/metrics/_classification.py:1565: UndefinedMetricWarning: Precision is ill-defined and being set to 0.0 due to no predicted samples. Use `zero_division` parameter to control this behavior.\n",
            "  _warn_prf(average, modifier, f\"{metric.capitalize()} is\", len(result))\n"
          ]
        },
        {
          "output_type": "stream",
          "name": "stdout",
          "text": [
            "--- Training Set ---\n",
            "Accuracy: 1.0000\n",
            "Precision: 0.0000\n",
            "Recall: 0.0000\n",
            "F1-Score: 0.0000\n",
            "Confusion Matrix:\n",
            "[[213465      0]\n",
            " [     4      0]]\n",
            "--- Test Set ---\n",
            "Accuracy: 1.0000\n",
            "Precision: 0.0000\n",
            "Recall: 0.0000\n",
            "F1-Score: 0.0000\n",
            "Confusion Matrix:\n",
            "[[91486     0]\n",
            " [    2     0]]\n",
            "--- Model Fit Analysis ---\n",
            "The model has a REGULAR FIT (good balance between train and test performance)\n"
          ]
        },
        {
          "output_type": "stream",
          "name": "stderr",
          "text": [
            "/usr/local/lib/python3.11/dist-packages/sklearn/metrics/_classification.py:1565: UndefinedMetricWarning: Precision is ill-defined and being set to 0.0 due to no predicted samples. Use `zero_division` parameter to control this behavior.\n",
            "  _warn_prf(average, modifier, f\"{metric.capitalize()} is\", len(result))\n"
          ]
        }
      ]
    }
  ]
}